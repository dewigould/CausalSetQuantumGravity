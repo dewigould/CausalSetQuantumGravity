{
 "cells": [
  {
   "cell_type": "markdown",
   "metadata": {},
   "source": [
    "# MSci Project Working Notes\n",
    "### Sprinklings with spacelike hypersurface"
   ]
  },
  {
   "cell_type": "code",
   "execution_count": 105,
   "metadata": {
    "collapsed": true
   },
   "outputs": [],
   "source": [
    "#Import libraries\n",
    "import numpy as np\n",
    "import random \n",
    "import matplotlib.pyplot as plt\n",
    "from itertools import permutations, combinations, product"
   ]
  },
  {
   "cell_type": "markdown",
   "metadata": {},
   "source": [
    "## Sprinkling\n",
    " - Choose finite region of spacetime in which to sprinkle elements to be $(u,v) = [[0,1],[0,1]]$\n",
    " - In this way, across many iterations, we are sprinkling at constant density $\\rho$:\n",
    " \n",
    "\\begin{align}\n",
    "\\rho = \\frac{<N>}{\\text{2-volume}}\n",
    "\\end{align}\n"
   ]
  },
  {
   "cell_type": "code",
   "execution_count": 62,
   "metadata": {},
   "outputs": [
    {
     "name": "stdout",
     "output_type": "stream",
     "text": [
      "Number of causal set elements to be sprinkled 49\n"
     ]
    },
    {
     "data": {
      "image/png": "[encoded data removed]",
      "text/plain": [
       "<matplotlib.figure.Figure at 0x110add610>"
      ]
     },
     "metadata": {},
     "output_type": "display_data"
    }
   ],
   "source": [
    "#Choose finite region of spacetime in which to sprinkle to be (x, t) = [[-1,1],[-1,1]]\n",
    "N_mean = 50\n",
    "N = int(np.random.normal(N_mean,0.1*N_mean))\n",
    "print \"Number of causal set elements to be sprinkled\", N\n",
    "xlist = [random.uniform(-1/np.sqrt(2),1/np.sqrt(2)) for i in range(N)]\n",
    "tlist = [random.uniform(0,np.sqrt(2)) for i in range(N)]\n",
    "\n",
    "positivex = np.linspace(0,1/np.sqrt(2),10)\n",
    "negativex = np.linspace(-1/np.sqrt(2),0,10)\n",
    "plt.figure()\n",
    "[plt.scatter(xlist[i],tlist[i],color='r') for i in range(N)]\n",
    "plt.plot(positivex,positivex,color='b')\n",
    "plt.plot(negativex,[-1*i for i in negativex],color='b')\n",
    "plt.plot(xlist,[1/np.sqrt(2) for i in range(len(xlist))],label=r'$\\Sigma$',color='orange')\n",
    "plt.plot(xlist,[i+1/np.sqrt(2) for i in xlist],label=r'$\\mathcal{H}$',color='green')\n",
    "plt.xlabel('x')\n",
    "plt.ylabel('t')\n",
    "plt.legend(fontsize=20)\n",
    "plt.show()"
   ]
  },
  {
   "cell_type": "code",
   "execution_count": 80,
   "metadata": {
    "collapsed": true
   },
   "outputs": [],
   "source": [
    "elements = zip(xlist,tlist)"
   ]
  },
  {
   "cell_type": "markdown",
   "metadata": {},
   "source": [
    "\\begin{align}\n",
    "u = \\frac{1}{\\sqrt{2}} (x + t)\n",
    "\\end{align}\n",
    "\n",
    "\\begin{align}\n",
    "v = \\frac{1}{\\sqrt{2}} (t - x)\n",
    "\\end{align}\n"
   ]
  },
  {
   "cell_type": "code",
   "execution_count": 81,
   "metadata": {},
   "outputs": [],
   "source": [
    "def nullcoords(element):\n",
    "    return (1/np.sqrt(2))*(element[0]+element[1]),(1/np.sqrt(2))*(element[1]-element[0])"
   ]
  },
  {
   "cell_type": "code",
   "execution_count": 82,
   "metadata": {},
   "outputs": [],
   "source": [
    "elements_uv = [nullcoords(i) for i in elements]\n",
    "#Elements has the form:\n",
    "# [    ( (x,t), (u,v), ELEMENT NUMBER ) ,  ...] for each element\n",
    "elements = [(elements[i],elements_uv[i],i) for i in range(len(elements))]\n",
    "\n",
    "def t(element):\n",
    "    return element[0][1]\n",
    "def x(element):\n",
    "    return element[0][0]\n",
    "def u(element):\n",
    "    return element[1][0]\n",
    "def v(element):\n",
    "    return element[1][1]\n",
    "def number(element):\n",
    "    return element[2]"
   ]
  },
  {
   "cell_type": "code",
   "execution_count": 88,
   "metadata": {},
   "outputs": [
    {
     "name": "stdout",
     "output_type": "stream",
     "text": [
      "17\n"
     ]
    },
    {
     "data": {
      "image/png": "[encoded data removed]",
      "text/plain": [
       "<matplotlib.figure.Figure at 0x10ff16410>"
      ]
     },
     "metadata": {},
     "output_type": "display_data"
    }
   ],
   "source": [
    "#Find elements 'x' in required region\n",
    "\n",
    "plt.figure()\n",
    "count = 0\n",
    "for element in elements:\n",
    "    if t(element) < 1/np.sqrt(2) and v(element) < 0.5:\n",
    "            count +=1\n",
    "            plt.scatter(x(element),t(element),color='r')\n",
    "for element in elements:\n",
    "    if t(element) <1/np.sqrt(2) and v(element)>0.5:\n",
    "        plt.scatter(x(element),t(element),color='b')\n",
    "print count\n",
    "plt.plot(xlist,[1/np.sqrt(2) for i in range(len(xlist))],label=r'$\\Sigma$',color='orange')\n",
    "plt.plot(xlist,[i+1/np.sqrt(2) for i in xlist],label=r'$\\mathcal{H}$',color='green')\n",
    "plt.xlabel('x')\n",
    "plt.ylabel('t')\n",
    "plt.legend(fontsize=20)\n",
    "plt.show()"
   ]
  },
  {
   "cell_type": "code",
   "execution_count": 95,
   "metadata": {},
   "outputs": [
    {
     "name": "stdout",
     "output_type": "stream",
     "text": [
      "0\n"
     ]
    }
   ],
   "source": [
    "# Find other elements above x, check if there is only one, check if its required region\n",
    "count =0\n",
    "for element in elements:\n",
    "    \n",
    "    #If x in the required region\n",
    "    if t(element) < 1/np.sqrt(2) and v(element) <0.5:\n",
    "        abovex = [] #list of elements above x, but below sigma\n",
    "    \n",
    "        #Search for element y\n",
    "        for element2 in elements:\n",
    "            #If y above x and they aren't the same element\n",
    "            if number(element) != number(element2) and u(element) < u(element2) and v(element) < v(element2):\n",
    "                # If y below sigma\n",
    "                if t(element2) < 1/np.sqrt(2):\n",
    "                    abovex.append(element2)\n",
    "        # If there's only one element above x, and that element is above the Horizon:\n",
    "        if len(abovex) == 1 and v(abovex[0]) >0.5:\n",
    "            count +=1\n",
    "print count"
   ]
  },
  {
   "cell_type": "markdown",
   "metadata": {},
   "source": [
    "# Part (i)"
   ]
  },
  {
   "cell_type": "code",
   "execution_count": 140,
   "metadata": {},
   "outputs": [
    {
     "data": {
      "image/png": "[encoded data removed]",
      "text/plain": [
       "<matplotlib.figure.Figure at 0x111031a10>"
      ]
     },
     "metadata": {},
     "output_type": "display_data"
    },
    {
     "name": "stdout",
     "output_type": "stream",
     "text": [
      "100\n",
      "Mean Number of Links:  0.25 with variance:  0.290404040404 at a sprinkling density of 100 with number of repetitions:  100\n"
     ]
    }
   ],
   "source": [
    "#Main Algo\n",
    "N_repetitions = 100\n",
    "N_mean = 100\n",
    "\n",
    "plt.figure()\n",
    "count = []\n",
    "for i in range(N_repetitions):\n",
    "    counter = 0\n",
    "    N = int(np.random.normal(N_mean,0.1*N_mean))\n",
    "    xlist = [random.uniform(-1/np.sqrt(2),1/np.sqrt(2)) for i in range(N)]\n",
    "    tlist = [random.uniform(0,np.sqrt(2)) for i in range(N)]\n",
    "\n",
    "    elements = zip(xlist,tlist)\n",
    "    elements_uv = [nullcoords(i) for i in elements]\n",
    "    elements = [(elements[i],elements_uv[i],i) for i in range(len(elements))]\n",
    "\n",
    "    # Find other elements above x, check if there is only one, check if its required region\n",
    "    for element in elements:\n",
    "\n",
    "        #If x in the required region\n",
    "        if t(element) < 1/np.sqrt(2) and v(element) <0.5:\n",
    "            abovex = [] #list of elements above x, but below sigma\n",
    "\n",
    "            #Search for element y\n",
    "            for element2 in elements:\n",
    "                #If y above x and they aren't the same element\n",
    "                if number(element) != number(element2) and u(element) < u(element2) and v(element) < v(element2):\n",
    "                    # If y below sigma\n",
    "                    if t(element2) < 1/np.sqrt(2):\n",
    "                        abovex.append(element2)\n",
    "            # If there's only one element above x, and that element is above the Horizon:\n",
    "            if len(abovex) == 1 and v(abovex[0]) >0.5:\n",
    "                counter +=1\n",
    "                plt.plot([x(element),x(abovex[0])],[t(element),t(abovex[0])])\n",
    "    count.append(counter)\n",
    "\n",
    "plt.plot(xlist,[1/np.sqrt(2) for i in range(len(xlist))],label=r'$\\Sigma$',color='orange')\n",
    "plt.plot(xlist,[i+1/np.sqrt(2) for i in xlist],label=r'$\\mathcal{H}$',color='green')        \n",
    "plt.show()\n",
    "\n",
    "print \"Mean Number of Links: \", np.mean(count), \"with variance: \", np.var(count), \"at a sprinkling density of\", N_mean, \"with number of repetitions: \", N_repetitions"
   ]
  },
  {
   "cell_type": "markdown",
   "metadata": {},
   "source": [
    "# Try to find behaviour as sprinkling gets denser"
   ]
  },
  {
   "cell_type": "code",
   "execution_count": 165,
   "metadata": {},
   "outputs": [
    {
     "name": "stdout",
     "output_type": "stream",
     "text": [
      "Mean Number of Links:  0.249 with variance:  0.266999 at a sprinkling density of 10 with number of repetitions:  1000\n",
      "Mean Number of Links:  0.306 with variance:  0.358364 at a sprinkling density of 50 with number of repetitions:  1000\n",
      "Mean Number of Links:  0.352 with variance:  0.404096 at a sprinkling density of 100 with number of repetitions:  1000\n",
      "Mean Number of Links:  0.367 with variance:  0.424311 at a sprinkling density of 500 with number of repetitions:  1000\n",
      "Mean Number of Links:  0.329 with variance:  0.390759 at a sprinkling density of 1000 with number of repetitions:  1000\n"
     ]
    },
    {
     "data": {
      "image/png": "[encoded data removed]",
      "text/plain": [
       "<matplotlib.figure.Figure at 0x10fa47a90>"
      ]
     },
     "metadata": {},
     "output_type": "display_data"
    }
   ],
   "source": [
    "#Main Algo\n",
    "\n",
    "N_mean_list = [10,50,100,500,1000]\n",
    "values = []\n",
    "for val in N_mean_list:\n",
    "    N_mean = val\n",
    "\n",
    "    N_repetitions = 1000\n",
    "\n",
    "\n",
    "    count = []\n",
    "    for i in range(N_repetitions):\n",
    "        counter = 0\n",
    "        #print i, \"out of\", N_repetitions\n",
    "        N = int(np.random.normal(N_mean,0.1*N_mean))\n",
    "        xlist = [random.uniform(-1/np.sqrt(2),1/np.sqrt(2)) for i in range(N)]\n",
    "        tlist = [random.uniform(0,np.sqrt(2)) for i in range(N)]\n",
    "\n",
    "        elements = zip(xlist,tlist)\n",
    "        elements_uv = [nullcoords(i) for i in elements]\n",
    "        elements = [(elements[i],elements_uv[i],i) for i in range(len(elements))]\n",
    "\n",
    "        # Find other elements above x, check if there is only one, check if its required region\n",
    "        for element in elements:\n",
    "\n",
    "            #If x in the required region\n",
    "            if t(element) < 1/np.sqrt(2) and v(element) <0.5:\n",
    "                abovex = [] #list of elements above x, but below sigma\n",
    "\n",
    "                #Search for element y\n",
    "                for element2 in elements:\n",
    "                    #If y above x and they aren't the same element\n",
    "                    if number(element) != number(element2) and u(element) < u(element2) and v(element) < v(element2):\n",
    "                        # If y below sigma\n",
    "                        if t(element2) < 1/np.sqrt(2):\n",
    "                            abovex.append(element2)\n",
    "                # If there's only one element above x, and that element is above the Horizon:\n",
    "                if len(abovex) == 1 and v(abovex[0]) >0.5:\n",
    "                    counter +=1\n",
    "        count.append(counter)\n",
    "\n",
    "    print \"Mean Number of Links: \", np.mean(count), \"with variance: \", np.var(count), \"at a sprinkling density of\", N_mean, \"with number of repetitions: \", N_repetitions\n",
    "    values.append((np.mean(count),np.var(count)))\n",
    "    \n",
    "plt.figure()\n",
    "plt.errorbar(N_mean_list,[i[0] for i in values],yerr=[i[1] for i in values])\n",
    "plt.xlabel('<N> sprinkled')\n",
    "plt.ylabel('<n>')\n",
    "plt.show()"
   ]
  },
  {
   "cell_type": "markdown",
   "metadata": {},
   "source": [
    "# Part (ii) and (i.5)"
   ]
  },
  {
   "cell_type": "code",
   "execution_count": 143,
   "metadata": {},
   "outputs": [
    {
     "name": "stdout",
     "output_type": "stream",
     "text": [
      "Part ii,  0.526 0.73606006006\n",
      "Part i.5,  0.48 0.54014014014\n"
     ]
    }
   ],
   "source": [
    "def spacelike_check(list_elements): #check that all elements in list are spacelike to eachother\n",
    "    for pair in combinations(list_elements,r=2):\n",
    "    #Spacelike if change in x coord is greater than change in t coordinate\n",
    "        element1, element2 = pair\n",
    "        if np.abs(x(element2)-x(element1)) < np.abs(t(element2)-t(element)):\n",
    "            return False\n",
    "    return True\n",
    "    \n",
    "    \n",
    "def position_count(list_elements): #for part ii, we count only one for each of these occurences\n",
    "    count = 0\n",
    "    for element in list_elements:\n",
    "        if v(element) >0.5:\n",
    "            count +=1\n",
    "    return count\n",
    "\n",
    "    \n",
    "def position_check(list_elements): #check at least one of the elements above x is in the correct position to be y\n",
    "    # i.e. only count '1' regardless of number that could be y\n",
    "    for element in list_elements:\n",
    "        if v(element) >0.5:\n",
    "            return True\n",
    "        \n",
    "\n",
    "#Main Algo\n",
    "N_repetitions = 1000\n",
    "N_mean = 100\n",
    "\n",
    "count_ii = []\n",
    "count_ipoint5 = []\n",
    "for i in range(N_repetitions):\n",
    "    counter_ii = 0\n",
    "    counter_i5 = 0\n",
    "    \n",
    "    N = int(np.random.normal(N_mean,0.1*N_mean))\n",
    "    xlist = [random.uniform(-1/np.sqrt(2),1/np.sqrt(2)) for i in range(N)]\n",
    "    tlist = [random.uniform(0,np.sqrt(2)) for i in range(N)]\n",
    "\n",
    "    elements = zip(xlist,tlist)\n",
    "    elements_uv = [nullcoords(i) for i in elements]\n",
    "    elements = [(elements[i],elements_uv[i],i) for i in range(len(elements))]\n",
    "\n",
    "    # Find other elements above x, check if there is only one, check if its required region\n",
    "    for element in elements:\n",
    "\n",
    "        #If x in the required region\n",
    "        if t(element) < 1/np.sqrt(2) and v(element) <0.5:\n",
    "            abovex = [] #list of elements above x, but below sigma\n",
    "\n",
    "            #Search for element y\n",
    "            for element2 in elements:\n",
    "                #If y above x and they aren't the same element\n",
    "                if number(element) != number(element2) and u(element) < u(element2) and v(element) < v(element2):\n",
    "                    # If y below sigma\n",
    "                    if t(element2) < 1/np.sqrt(2):\n",
    "                        abovex.append(element2)\n",
    "                        \n",
    "                        \n",
    "            # If all elements above x are spacelike to eachother\n",
    "            if spacelike_check(abovex):\n",
    "                if position_check(abovex):\n",
    "                    counter_i5 +=1\n",
    "                    counter_ii += position_count(abovex)\n",
    "        \n",
    "    count_ii.append(counter_ii)\n",
    "    count_ipoint5.append(counter_i5)\n",
    " \n",
    "  \n",
    "\n",
    "print \"Part ii, \", np.mean(count_ii),np.var(count_ii)\n",
    "print \"Part i.5, \", np.mean(count_ipoint5), np.var(count_ipoint5)"
   ]
  },
  {
   "cell_type": "markdown",
   "metadata": {},
   "source": [
    "# Check Behaviour as sprinkling gets denser"
   ]
  },
  {
   "cell_type": "code",
   "execution_count": 150,
   "metadata": {},
   "outputs": [
    {
     "name": "stdout",
     "output_type": "stream",
     "text": [
      "Part ii,  0.551 0.786185185185\n",
      "Part i.5,  0.513 0.655831\n"
     ]
    }
   ],
   "source": [
    "def spacelike_check(list_elements): #check that all elements in list are spacelike to eachother\n",
    "    for pair in combinations(list_elements,r=2):\n",
    "    #Spacelike if change in x coord is greater than change in t coordinate\n",
    "        element1, element2 = pair\n",
    "        if np.abs(x(element2)-x(element1)) < np.abs(t(element2)-t(element)):\n",
    "            return False\n",
    "    return True\n",
    "    \n",
    "    \n",
    "def position_count(list_elements): #for part ii, we count only one for each of these occurences\n",
    "    count = 0\n",
    "    for element in list_elements:\n",
    "        if v(element) >0.5:\n",
    "            count +=1\n",
    "    return count\n",
    "\n",
    "    \n",
    "def position_check(list_elements): #check at least one of the elements above x is in the correct position to be y\n",
    "    # i.e. only count '1' regardless of number that could be y\n",
    "    for element in list_elements:\n",
    "        if v(element) >0.5:\n",
    "            return True\n",
    "        \n",
    "\n",
    "        \n",
    "N_mean_list = [100]\n",
    "for val in N_mean_list:\n",
    "    N_mean = val\n",
    "    #Main Algo\n",
    "    N_repetitions = 1000\n",
    "\n",
    "    count_ii = []\n",
    "    count_ipoint5 = []\n",
    "    for i in range(N_repetitions):\n",
    "        counter_ii = 0\n",
    "        counter_ipoint5=0\n",
    "\n",
    "        N = int(np.random.normal(N_mean,0.1*N_mean))\n",
    "        xlist = [random.uniform(-1/np.sqrt(2),1/np.sqrt(2)) for i in range(N)]\n",
    "        tlist = [random.uniform(0,np.sqrt(2)) for i in range(N)]\n",
    "\n",
    "        elements = zip(xlist,tlist)\n",
    "        elements_uv = [nullcoords(i) for i in elements]\n",
    "        elements = [(elements[i],elements_uv[i],i) for i in range(len(elements))]\n",
    "\n",
    "        # Find other elements above x, check if there is only one, check if its required region\n",
    "        for element in elements:\n",
    "\n",
    "            #If x in the required region\n",
    "            if t(element) < 1/np.sqrt(2) and v(element) <0.5:\n",
    "                abovex = [] #list of elements above x, but below sigma\n",
    "\n",
    "                #Search for element y\n",
    "                for element2 in elements:\n",
    "                    #If y above x and they aren't the same element\n",
    "                    if number(element) != number(element2) and u(element) < u(element2) and v(element) < v(element2):\n",
    "                        # If y below sigma\n",
    "                        if t(element2) < 1/np.sqrt(2):\n",
    "                            abovex.append(element2)\n",
    "\n",
    "\n",
    "                # If all elements above x are spacelike to eachother\n",
    "                if spacelike_check(abovex):\n",
    "                    if position_check(abovex):\n",
    "                        counter_ipoint5 +=1\n",
    "                        counter_ii += position_count(abovex)\n",
    "        count_ii.append(counter_ii)\n",
    "        count_ipoint5.append(counter_ipoint5)\n",
    "        \n",
    "    \n",
    "\n",
    "    print \"Part ii, \", np.mean(count_ii), np.var(count_ii)\n",
    "    print \"Part i.5, \", np.mean(count_ipoint5),np.var(count_ipoint5)"
   ]
  }
 ],
 "metadata": {
  "kernelspec": {
   "display_name": "Python 2",
   "language": "python",
   "name": "python2"
  },
  "language_info": {
   "codemirror_mode": {
    "name": "ipython",
    "version": 2
   },
   "file_extension": ".py",
   "mimetype": "text/x-python",
   "name": "python",
   "nbconvert_exporter": "python",
   "pygments_lexer": "ipython2",
   "version": "2.7.13"
  }
 },
 "nbformat": 4,
 "nbformat_minor": 2
}
